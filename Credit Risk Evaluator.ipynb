{
 "cells": [
  {
   "cell_type": "code",
   "execution_count": 14,
   "metadata": {},
   "outputs": [],
   "source": [
    "%matplotlib inline\n",
    "import matplotlib.pyplot as plt\n",
    "import numpy as np\n",
    "import pandas as pd\n",
    "from sklearn.model_selection import train_test_split\n",
    "from sklearn.linear_model import LogisticRegression\n",
    "from sklearn.preprocessing import StandardScaler, MinMaxScaler, LabelEncoder\n",
    "from sklearn.ensemble import RandomForestClassifier"
   ]
  },
  {
   "cell_type": "markdown",
   "metadata": {},
   "source": [
    "\n",
    "# Data Cleaning & Split the Data into Training and Testing"
   ]
  },
  {
   "cell_type": "code",
   "execution_count": 20,
   "metadata": {},
   "outputs": [
    {
     "data": {
      "text/html": "<div>\n<style scoped>\n    .dataframe tbody tr th:only-of-type {\n        vertical-align: middle;\n    }\n\n    .dataframe tbody tr th {\n        vertical-align: top;\n    }\n\n    .dataframe thead th {\n        text-align: right;\n    }\n</style>\n<table border=\"1\" class=\"dataframe\">\n  <thead>\n    <tr style=\"text-align: right;\">\n      <th></th>\n      <th>loan_amnt</th>\n      <th>int_rate</th>\n      <th>installment</th>\n      <th>home_ownership</th>\n      <th>annual_inc</th>\n      <th>verification_status</th>\n      <th>pymnt_plan</th>\n      <th>dti</th>\n      <th>delinq_2yrs</th>\n      <th>inq_last_6mths</th>\n      <th>...</th>\n      <th>percent_bc_gt_75</th>\n      <th>pub_rec_bankruptcies</th>\n      <th>tax_liens</th>\n      <th>tot_hi_cred_lim</th>\n      <th>total_bal_ex_mort</th>\n      <th>total_bc_limit</th>\n      <th>total_il_high_credit_limit</th>\n      <th>hardship_flag</th>\n      <th>debt_settlement_flag</th>\n      <th>loan_status</th>\n    </tr>\n  </thead>\n  <tbody>\n    <tr>\n      <th>0</th>\n      <td>7000.0</td>\n      <td>0.1894</td>\n      <td>256.38</td>\n      <td>MORTGAGE</td>\n      <td>75000.0</td>\n      <td>Not Verified</td>\n      <td>n</td>\n      <td>28.62</td>\n      <td>0.0</td>\n      <td>2.0</td>\n      <td>...</td>\n      <td>87.5</td>\n      <td>0.0</td>\n      <td>0.0</td>\n      <td>352260.0</td>\n      <td>62666.0</td>\n      <td>35000.0</td>\n      <td>10000.0</td>\n      <td>N</td>\n      <td>N</td>\n      <td>low_risk</td>\n    </tr>\n    <tr>\n      <th>1</th>\n      <td>40000.0</td>\n      <td>0.1614</td>\n      <td>975.71</td>\n      <td>MORTGAGE</td>\n      <td>102000.0</td>\n      <td>Source Verified</td>\n      <td>n</td>\n      <td>11.72</td>\n      <td>2.0</td>\n      <td>0.0</td>\n      <td>...</td>\n      <td>0.0</td>\n      <td>0.0</td>\n      <td>0.0</td>\n      <td>294664.0</td>\n      <td>109911.0</td>\n      <td>9000.0</td>\n      <td>71044.0</td>\n      <td>N</td>\n      <td>N</td>\n      <td>low_risk</td>\n    </tr>\n    <tr>\n      <th>2</th>\n      <td>11000.0</td>\n      <td>0.2055</td>\n      <td>294.81</td>\n      <td>RENT</td>\n      <td>45000.0</td>\n      <td>Verified</td>\n      <td>n</td>\n      <td>37.25</td>\n      <td>1.0</td>\n      <td>3.0</td>\n      <td>...</td>\n      <td>7.7</td>\n      <td>0.0</td>\n      <td>0.0</td>\n      <td>92228.0</td>\n      <td>36007.0</td>\n      <td>33000.0</td>\n      <td>46328.0</td>\n      <td>N</td>\n      <td>N</td>\n      <td>low_risk</td>\n    </tr>\n    <tr>\n      <th>3</th>\n      <td>4000.0</td>\n      <td>0.1612</td>\n      <td>140.87</td>\n      <td>MORTGAGE</td>\n      <td>38000.0</td>\n      <td>Not Verified</td>\n      <td>n</td>\n      <td>42.89</td>\n      <td>1.0</td>\n      <td>0.0</td>\n      <td>...</td>\n      <td>100.0</td>\n      <td>0.0</td>\n      <td>0.0</td>\n      <td>284273.0</td>\n      <td>52236.0</td>\n      <td>13500.0</td>\n      <td>52017.0</td>\n      <td>N</td>\n      <td>N</td>\n      <td>low_risk</td>\n    </tr>\n    <tr>\n      <th>4</th>\n      <td>14000.0</td>\n      <td>0.1797</td>\n      <td>505.93</td>\n      <td>MORTGAGE</td>\n      <td>43000.0</td>\n      <td>Source Verified</td>\n      <td>n</td>\n      <td>22.16</td>\n      <td>1.0</td>\n      <td>0.0</td>\n      <td>...</td>\n      <td>25.0</td>\n      <td>0.0</td>\n      <td>0.0</td>\n      <td>120280.0</td>\n      <td>88147.0</td>\n      <td>33300.0</td>\n      <td>78680.0</td>\n      <td>N</td>\n      <td>N</td>\n      <td>low_risk</td>\n    </tr>\n    <tr>\n      <th>...</th>\n      <td>...</td>\n      <td>...</td>\n      <td>...</td>\n      <td>...</td>\n      <td>...</td>\n      <td>...</td>\n      <td>...</td>\n      <td>...</td>\n      <td>...</td>\n      <td>...</td>\n      <td>...</td>\n      <td>...</td>\n      <td>...</td>\n      <td>...</td>\n      <td>...</td>\n      <td>...</td>\n      <td>...</td>\n      <td>...</td>\n      <td>...</td>\n      <td>...</td>\n      <td>...</td>\n    </tr>\n    <tr>\n      <th>12175</th>\n      <td>19975.0</td>\n      <td>0.2565</td>\n      <td>801.09</td>\n      <td>RENT</td>\n      <td>28000.0</td>\n      <td>Not Verified</td>\n      <td>n</td>\n      <td>28.42</td>\n      <td>0.0</td>\n      <td>0.0</td>\n      <td>...</td>\n      <td>16.7</td>\n      <td>0.0</td>\n      <td>0.0</td>\n      <td>50055.0</td>\n      <td>28192.0</td>\n      <td>18700.0</td>\n      <td>19055.0</td>\n      <td>N</td>\n      <td>N</td>\n      <td>high_risk</td>\n    </tr>\n    <tr>\n      <th>12176</th>\n      <td>15000.0</td>\n      <td>0.1774</td>\n      <td>540.34</td>\n      <td>RENT</td>\n      <td>50000.0</td>\n      <td>Verified</td>\n      <td>n</td>\n      <td>23.43</td>\n      <td>4.0</td>\n      <td>0.0</td>\n      <td>...</td>\n      <td>11.1</td>\n      <td>0.0</td>\n      <td>0.0</td>\n      <td>70324.0</td>\n      <td>57025.0</td>\n      <td>13300.0</td>\n      <td>54824.0</td>\n      <td>N</td>\n      <td>N</td>\n      <td>high_risk</td>\n    </tr>\n    <tr>\n      <th>12177</th>\n      <td>3600.0</td>\n      <td>0.1862</td>\n      <td>131.28</td>\n      <td>RENT</td>\n      <td>60000.0</td>\n      <td>Not Verified</td>\n      <td>n</td>\n      <td>28.80</td>\n      <td>0.0</td>\n      <td>1.0</td>\n      <td>...</td>\n      <td>0.0</td>\n      <td>0.0</td>\n      <td>0.0</td>\n      <td>83765.0</td>\n      <td>55156.0</td>\n      <td>14800.0</td>\n      <td>53065.0</td>\n      <td>N</td>\n      <td>N</td>\n      <td>high_risk</td>\n    </tr>\n    <tr>\n      <th>12178</th>\n      <td>15000.0</td>\n      <td>0.0881</td>\n      <td>475.68</td>\n      <td>MORTGAGE</td>\n      <td>62000.0</td>\n      <td>Source Verified</td>\n      <td>n</td>\n      <td>11.44</td>\n      <td>0.0</td>\n      <td>0.0</td>\n      <td>...</td>\n      <td>0.0</td>\n      <td>0.0</td>\n      <td>0.0</td>\n      <td>189930.0</td>\n      <td>23748.0</td>\n      <td>7000.0</td>\n      <td>32930.0</td>\n      <td>N</td>\n      <td>N</td>\n      <td>high_risk</td>\n    </tr>\n    <tr>\n      <th>12179</th>\n      <td>15000.0</td>\n      <td>0.1774</td>\n      <td>540.34</td>\n      <td>RENT</td>\n      <td>54080.0</td>\n      <td>Not Verified</td>\n      <td>n</td>\n      <td>21.66</td>\n      <td>1.0</td>\n      <td>1.0</td>\n      <td>...</td>\n      <td>100.0</td>\n      <td>0.0</td>\n      <td>0.0</td>\n      <td>48968.0</td>\n      <td>29786.0</td>\n      <td>2900.0</td>\n      <td>33968.0</td>\n      <td>N</td>\n      <td>N</td>\n      <td>high_risk</td>\n    </tr>\n  </tbody>\n</table>\n<p>12180 rows × 84 columns</p>\n</div>",
      "text/plain": "       loan_amnt  int_rate  installment home_ownership  annual_inc  \\\n0         7000.0    0.1894       256.38       MORTGAGE     75000.0   \n1        40000.0    0.1614       975.71       MORTGAGE    102000.0   \n2        11000.0    0.2055       294.81           RENT     45000.0   \n3         4000.0    0.1612       140.87       MORTGAGE     38000.0   \n4        14000.0    0.1797       505.93       MORTGAGE     43000.0   \n...          ...       ...          ...            ...         ...   \n12175    19975.0    0.2565       801.09           RENT     28000.0   \n12176    15000.0    0.1774       540.34           RENT     50000.0   \n12177     3600.0    0.1862       131.28           RENT     60000.0   \n12178    15000.0    0.0881       475.68       MORTGAGE     62000.0   \n12179    15000.0    0.1774       540.34           RENT     54080.0   \n\n      verification_status pymnt_plan    dti  delinq_2yrs  inq_last_6mths  ...  \\\n0            Not Verified          n  28.62          0.0             2.0  ...   \n1         Source Verified          n  11.72          2.0             0.0  ...   \n2                Verified          n  37.25          1.0             3.0  ...   \n3            Not Verified          n  42.89          1.0             0.0  ...   \n4         Source Verified          n  22.16          1.0             0.0  ...   \n...                   ...        ...    ...          ...             ...  ...   \n12175        Not Verified          n  28.42          0.0             0.0  ...   \n12176            Verified          n  23.43          4.0             0.0  ...   \n12177        Not Verified          n  28.80          0.0             1.0  ...   \n12178     Source Verified          n  11.44          0.0             0.0  ...   \n12179        Not Verified          n  21.66          1.0             1.0  ...   \n\n       percent_bc_gt_75  pub_rec_bankruptcies  tax_liens  tot_hi_cred_lim  \\\n0                  87.5                   0.0        0.0         352260.0   \n1                   0.0                   0.0        0.0         294664.0   \n2                   7.7                   0.0        0.0          92228.0   \n3                 100.0                   0.0        0.0         284273.0   \n4                  25.0                   0.0        0.0         120280.0   \n...                 ...                   ...        ...              ...   \n12175              16.7                   0.0        0.0          50055.0   \n12176              11.1                   0.0        0.0          70324.0   \n12177               0.0                   0.0        0.0          83765.0   \n12178               0.0                   0.0        0.0         189930.0   \n12179             100.0                   0.0        0.0          48968.0   \n\n      total_bal_ex_mort  total_bc_limit  total_il_high_credit_limit  \\\n0               62666.0         35000.0                     10000.0   \n1              109911.0          9000.0                     71044.0   \n2               36007.0         33000.0                     46328.0   \n3               52236.0         13500.0                     52017.0   \n4               88147.0         33300.0                     78680.0   \n...                 ...             ...                         ...   \n12175           28192.0         18700.0                     19055.0   \n12176           57025.0         13300.0                     54824.0   \n12177           55156.0         14800.0                     53065.0   \n12178           23748.0          7000.0                     32930.0   \n12179           29786.0          2900.0                     33968.0   \n\n       hardship_flag  debt_settlement_flag  loan_status  \n0                  N                     N     low_risk  \n1                  N                     N     low_risk  \n2                  N                     N     low_risk  \n3                  N                     N     low_risk  \n4                  N                     N     low_risk  \n...              ...                   ...          ...  \n12175              N                     N    high_risk  \n12176              N                     N    high_risk  \n12177              N                     N    high_risk  \n12178              N                     N    high_risk  \n12179              N                     N    high_risk  \n\n[12180 rows x 84 columns]"
     },
     "execution_count": 20,
     "metadata": {},
     "output_type": "execute_result"
    }
   ],
   "source": [
    "columns = [\n",
    "    \"loan_amnt\", \"int_rate\", \"installment\", \"home_ownership\", \"annual_inc\", \n",
    "    \"verification_status\", \"pymnt_plan\", \"dti\", \"delinq_2yrs\", \n",
    "    \"inq_last_6mths\", \"open_acc\", \"pub_rec\", \"revol_bal\", \"total_acc\", \n",
    "    \"initial_list_status\", \"out_prncp\", \"out_prncp_inv\", \"total_pymnt\", \n",
    "    \"total_pymnt_inv\", \"total_rec_prncp\", \"total_rec_int\", \n",
    "    \"total_rec_late_fee\", \"recoveries\", \"collection_recovery_fee\", \n",
    "    \"last_pymnt_amnt\", \"collections_12_mths_ex_med\", \"policy_code\", \n",
    "    \"application_type\", \"acc_now_delinq\", \"tot_coll_amt\", \"tot_cur_bal\", \n",
    "    \"open_acc_6m\", \"open_act_il\", \"open_il_12m\", \"open_il_24m\", \n",
    "    \"mths_since_rcnt_il\", \"total_bal_il\", \"il_util\", \"open_rv_12m\", \n",
    "    \"open_rv_24m\", \"max_bal_bc\", \"all_util\", \"total_rev_hi_lim\", \"inq_fi\", \n",
    "    \"total_cu_tl\", \"inq_last_12m\", \"acc_open_past_24mths\", \"avg_cur_bal\", \n",
    "    \"bc_open_to_buy\", \"bc_util\", \"chargeoff_within_12_mths\", \"delinq_amnt\", \n",
    "    \"mo_sin_old_il_acct\", \"mo_sin_old_rev_tl_op\", \"mo_sin_rcnt_rev_tl_op\", \n",
    "    \"mo_sin_rcnt_tl\", \"mort_acc\", \"mths_since_recent_bc\", \n",
    "    \"mths_since_recent_inq\", \"num_accts_ever_120_pd\", \"num_actv_bc_tl\",\n",
    "    \"num_actv_rev_tl\", \"num_bc_sats\", \"num_bc_tl\", \"num_il_tl\", \n",
    "    \"num_op_rev_tl\", \"num_rev_accts\", \"num_rev_tl_bal_gt_0\", \"num_sats\", \n",
    "    \"num_tl_120dpd_2m\", \"num_tl_30dpd\", \"num_tl_90g_dpd_24m\", \n",
    "    \"num_tl_op_past_12m\", \"pct_tl_nvr_dlq\", \"percent_bc_gt_75\", \n",
    "    \"pub_rec_bankruptcies\", \"tax_liens\", \"tot_hi_cred_lim\", \n",
    "    \"total_bal_ex_mort\", \"total_bc_limit\", \"total_il_high_credit_limit\", \n",
    "    \"hardship_flag\", \"debt_settlement_flag\",\n",
    "    \"loan_status\"\n",
    "]\n",
    "\n",
    "df = pd.read_csv(R'/Users/melissa/Downloads/Supervised_Machine_Learning/Resources /Generator /2019loans.csv', skiprows=1, header=None, names=columns, index_col=False)\n",
    "df\n"
   ]
  },
  {
   "cell_type": "code",
   "execution_count": 23,
   "metadata": {},
   "outputs": [
    {
     "data": {
      "text/html": "<div>\n<style scoped>\n    .dataframe tbody tr th:only-of-type {\n        vertical-align: middle;\n    }\n\n    .dataframe tbody tr th {\n        vertical-align: top;\n    }\n\n    .dataframe thead th {\n        text-align: right;\n    }\n</style>\n<table border=\"1\" class=\"dataframe\">\n  <thead>\n    <tr style=\"text-align: right;\">\n      <th></th>\n      <th>loan_amnt</th>\n      <th>int_rate</th>\n      <th>installment</th>\n      <th>annual_inc</th>\n      <th>dti</th>\n      <th>delinq_2yrs</th>\n      <th>inq_last_6mths</th>\n      <th>open_acc</th>\n      <th>pub_rec</th>\n      <th>revol_bal</th>\n      <th>...</th>\n      <th>initial_list_status_f</th>\n      <th>initial_list_status_w</th>\n      <th>application_type_Individual</th>\n      <th>application_type_Joint App</th>\n      <th>hardship_flag_N</th>\n      <th>hardship_flag_Y</th>\n      <th>debt_settlement_flag_N</th>\n      <th>debt_settlement_flag_Y</th>\n      <th>loan_status_high_risk</th>\n      <th>loan_status_low_risk</th>\n    </tr>\n  </thead>\n  <tbody>\n    <tr>\n      <th>0</th>\n      <td>7000.0</td>\n      <td>0.1894</td>\n      <td>256.38</td>\n      <td>75000.0</td>\n      <td>28.62</td>\n      <td>0.0</td>\n      <td>2.0</td>\n      <td>20.0</td>\n      <td>0.0</td>\n      <td>40414.0</td>\n      <td>...</td>\n      <td>1.0</td>\n      <td>0.0</td>\n      <td>1.0</td>\n      <td>0.0</td>\n      <td>1.0</td>\n      <td>0.0</td>\n      <td>1.0</td>\n      <td>0.0</td>\n      <td>0.0</td>\n      <td>1.0</td>\n    </tr>\n    <tr>\n      <th>1</th>\n      <td>40000.0</td>\n      <td>0.1614</td>\n      <td>975.71</td>\n      <td>102000.0</td>\n      <td>11.72</td>\n      <td>2.0</td>\n      <td>0.0</td>\n      <td>10.0</td>\n      <td>0.0</td>\n      <td>43531.0</td>\n      <td>...</td>\n      <td>0.0</td>\n      <td>1.0</td>\n      <td>1.0</td>\n      <td>0.0</td>\n      <td>1.0</td>\n      <td>0.0</td>\n      <td>1.0</td>\n      <td>0.0</td>\n      <td>0.0</td>\n      <td>1.0</td>\n    </tr>\n    <tr>\n      <th>2</th>\n      <td>11000.0</td>\n      <td>0.2055</td>\n      <td>294.81</td>\n      <td>45000.0</td>\n      <td>37.25</td>\n      <td>1.0</td>\n      <td>3.0</td>\n      <td>23.0</td>\n      <td>0.0</td>\n      <td>8242.0</td>\n      <td>...</td>\n      <td>0.0</td>\n      <td>1.0</td>\n      <td>1.0</td>\n      <td>0.0</td>\n      <td>1.0</td>\n      <td>0.0</td>\n      <td>1.0</td>\n      <td>0.0</td>\n      <td>0.0</td>\n      <td>1.0</td>\n    </tr>\n    <tr>\n      <th>3</th>\n      <td>4000.0</td>\n      <td>0.1612</td>\n      <td>140.87</td>\n      <td>38000.0</td>\n      <td>42.89</td>\n      <td>1.0</td>\n      <td>0.0</td>\n      <td>7.0</td>\n      <td>0.0</td>\n      <td>12767.0</td>\n      <td>...</td>\n      <td>0.0</td>\n      <td>1.0</td>\n      <td>0.0</td>\n      <td>1.0</td>\n      <td>1.0</td>\n      <td>0.0</td>\n      <td>1.0</td>\n      <td>0.0</td>\n      <td>0.0</td>\n      <td>1.0</td>\n    </tr>\n    <tr>\n      <th>4</th>\n      <td>14000.0</td>\n      <td>0.1797</td>\n      <td>505.93</td>\n      <td>43000.0</td>\n      <td>22.16</td>\n      <td>1.0</td>\n      <td>0.0</td>\n      <td>22.0</td>\n      <td>0.0</td>\n      <td>11182.0</td>\n      <td>...</td>\n      <td>0.0</td>\n      <td>1.0</td>\n      <td>1.0</td>\n      <td>0.0</td>\n      <td>1.0</td>\n      <td>0.0</td>\n      <td>1.0</td>\n      <td>0.0</td>\n      <td>0.0</td>\n      <td>1.0</td>\n    </tr>\n    <tr>\n      <th>...</th>\n      <td>...</td>\n      <td>...</td>\n      <td>...</td>\n      <td>...</td>\n      <td>...</td>\n      <td>...</td>\n      <td>...</td>\n      <td>...</td>\n      <td>...</td>\n      <td>...</td>\n      <td>...</td>\n      <td>...</td>\n      <td>...</td>\n      <td>...</td>\n      <td>...</td>\n      <td>...</td>\n      <td>...</td>\n      <td>...</td>\n      <td>...</td>\n      <td>...</td>\n      <td>...</td>\n    </tr>\n    <tr>\n      <th>12175</th>\n      <td>19975.0</td>\n      <td>0.2565</td>\n      <td>801.09</td>\n      <td>28000.0</td>\n      <td>28.42</td>\n      <td>0.0</td>\n      <td>0.0</td>\n      <td>15.0</td>\n      <td>0.0</td>\n      <td>9679.0</td>\n      <td>...</td>\n      <td>0.0</td>\n      <td>1.0</td>\n      <td>1.0</td>\n      <td>0.0</td>\n      <td>1.0</td>\n      <td>0.0</td>\n      <td>1.0</td>\n      <td>0.0</td>\n      <td>1.0</td>\n      <td>0.0</td>\n    </tr>\n    <tr>\n      <th>12176</th>\n      <td>15000.0</td>\n      <td>0.1774</td>\n      <td>540.34</td>\n      <td>50000.0</td>\n      <td>23.43</td>\n      <td>4.0</td>\n      <td>0.0</td>\n      <td>16.0</td>\n      <td>0.0</td>\n      <td>3193.0</td>\n      <td>...</td>\n      <td>0.0</td>\n      <td>1.0</td>\n      <td>1.0</td>\n      <td>0.0</td>\n      <td>1.0</td>\n      <td>0.0</td>\n      <td>1.0</td>\n      <td>0.0</td>\n      <td>1.0</td>\n      <td>0.0</td>\n    </tr>\n    <tr>\n      <th>12177</th>\n      <td>3600.0</td>\n      <td>0.1862</td>\n      <td>131.28</td>\n      <td>60000.0</td>\n      <td>28.80</td>\n      <td>0.0</td>\n      <td>1.0</td>\n      <td>14.0</td>\n      <td>0.0</td>\n      <td>11804.0</td>\n      <td>...</td>\n      <td>0.0</td>\n      <td>1.0</td>\n      <td>1.0</td>\n      <td>0.0</td>\n      <td>1.0</td>\n      <td>0.0</td>\n      <td>1.0</td>\n      <td>0.0</td>\n      <td>1.0</td>\n      <td>0.0</td>\n    </tr>\n    <tr>\n      <th>12178</th>\n      <td>15000.0</td>\n      <td>0.0881</td>\n      <td>475.68</td>\n      <td>62000.0</td>\n      <td>11.44</td>\n      <td>0.0</td>\n      <td>0.0</td>\n      <td>5.0</td>\n      <td>0.0</td>\n      <td>157.0</td>\n      <td>...</td>\n      <td>0.0</td>\n      <td>1.0</td>\n      <td>0.0</td>\n      <td>1.0</td>\n      <td>1.0</td>\n      <td>0.0</td>\n      <td>1.0</td>\n      <td>0.0</td>\n      <td>1.0</td>\n      <td>0.0</td>\n    </tr>\n    <tr>\n      <th>12179</th>\n      <td>15000.0</td>\n      <td>0.1774</td>\n      <td>540.34</td>\n      <td>54080.0</td>\n      <td>21.66</td>\n      <td>1.0</td>\n      <td>1.0</td>\n      <td>5.0</td>\n      <td>0.0</td>\n      <td>8349.0</td>\n      <td>...</td>\n      <td>1.0</td>\n      <td>0.0</td>\n      <td>1.0</td>\n      <td>0.0</td>\n      <td>1.0</td>\n      <td>0.0</td>\n      <td>1.0</td>\n      <td>0.0</td>\n      <td>1.0</td>\n      <td>0.0</td>\n    </tr>\n  </tbody>\n</table>\n<p>12180 rows × 93 columns</p>\n</div>",
      "text/plain": "       loan_amnt  int_rate  installment  annual_inc    dti  delinq_2yrs  \\\n0         7000.0    0.1894       256.38     75000.0  28.62          0.0   \n1        40000.0    0.1614       975.71    102000.0  11.72          2.0   \n2        11000.0    0.2055       294.81     45000.0  37.25          1.0   \n3         4000.0    0.1612       140.87     38000.0  42.89          1.0   \n4        14000.0    0.1797       505.93     43000.0  22.16          1.0   \n...          ...       ...          ...         ...    ...          ...   \n12175    19975.0    0.2565       801.09     28000.0  28.42          0.0   \n12176    15000.0    0.1774       540.34     50000.0  23.43          4.0   \n12177     3600.0    0.1862       131.28     60000.0  28.80          0.0   \n12178    15000.0    0.0881       475.68     62000.0  11.44          0.0   \n12179    15000.0    0.1774       540.34     54080.0  21.66          1.0   \n\n       inq_last_6mths  open_acc  pub_rec  revol_bal  ...  \\\n0                 2.0      20.0      0.0    40414.0  ...   \n1                 0.0      10.0      0.0    43531.0  ...   \n2                 3.0      23.0      0.0     8242.0  ...   \n3                 0.0       7.0      0.0    12767.0  ...   \n4                 0.0      22.0      0.0    11182.0  ...   \n...               ...       ...      ...        ...  ...   \n12175             0.0      15.0      0.0     9679.0  ...   \n12176             0.0      16.0      0.0     3193.0  ...   \n12177             1.0      14.0      0.0    11804.0  ...   \n12178             0.0       5.0      0.0      157.0  ...   \n12179             1.0       5.0      0.0     8349.0  ...   \n\n       initial_list_status_f  initial_list_status_w  \\\n0                        1.0                    0.0   \n1                        0.0                    1.0   \n2                        0.0                    1.0   \n3                        0.0                    1.0   \n4                        0.0                    1.0   \n...                      ...                    ...   \n12175                    0.0                    1.0   \n12176                    0.0                    1.0   \n12177                    0.0                    1.0   \n12178                    0.0                    1.0   \n12179                    1.0                    0.0   \n\n       application_type_Individual  application_type_Joint App  \\\n0                              1.0                         0.0   \n1                              1.0                         0.0   \n2                              1.0                         0.0   \n3                              0.0                         1.0   \n4                              1.0                         0.0   \n...                            ...                         ...   \n12175                          1.0                         0.0   \n12176                          1.0                         0.0   \n12177                          1.0                         0.0   \n12178                          0.0                         1.0   \n12179                          1.0                         0.0   \n\n       hardship_flag_N  hardship_flag_Y  debt_settlement_flag_N  \\\n0                  1.0              0.0                     1.0   \n1                  1.0              0.0                     1.0   \n2                  1.0              0.0                     1.0   \n3                  1.0              0.0                     1.0   \n4                  1.0              0.0                     1.0   \n...                ...              ...                     ...   \n12175              1.0              0.0                     1.0   \n12176              1.0              0.0                     1.0   \n12177              1.0              0.0                     1.0   \n12178              1.0              0.0                     1.0   \n12179              1.0              0.0                     1.0   \n\n       debt_settlement_flag_Y  loan_status_high_risk  loan_status_low_risk  \n0                         0.0                    0.0                   1.0  \n1                         0.0                    0.0                   1.0  \n2                         0.0                    0.0                   1.0  \n3                         0.0                    0.0                   1.0  \n4                         0.0                    0.0                   1.0  \n...                       ...                    ...                   ...  \n12175                     0.0                    1.0                   0.0  \n12176                     0.0                    1.0                   0.0  \n12177                     0.0                    1.0                   0.0  \n12178                     0.0                    1.0                   0.0  \n12179                     0.0                    1.0                   0.0  \n\n[12180 rows x 93 columns]"
     },
     "execution_count": 23,
     "metadata": {},
     "output_type": "execute_result"
    }
   ],
   "source": [
    "df1 = df.drop(\"tot_coll_amt\", axis=1)\n",
    "x = pd.get_dummies(df1, dtype=float)\n",
    "\n",
    "x"
   ]
  },
  {
   "cell_type": "code",
   "execution_count": 24,
   "metadata": {},
   "outputs": [
    {
     "data": {
      "text/plain": "array([  0,   0, 694, ...,   0,   0,   0])"
     },
     "execution_count": 24,
     "metadata": {},
     "output_type": "execute_result"
    }
   ],
   "source": [
    "y = LabelEncoder().fit_transform(df['tot_coll_amt'])\n",
    "y"
   ]
  },
  {
   "cell_type": "code",
   "execution_count": 36,
   "metadata": {},
   "outputs": [],
   "source": [
    "x_train, x_test, y_train, y_test = train_test_split(x, y, random_state=1)"
   ]
  },
  {
   "cell_type": "markdown",
   "metadata": {},
   "source": [
    "# Predictions and Comparison"
   ]
  },
  {
   "cell_type": "markdown",
   "metadata": {},
   "source": [
    "Makes a prediction on which model will perform better on the unscaled data. \n",
    "Since we are dealing with a large dataset and contains categorical variables it is imoortant to take into account the models that can divide the data based on categorical data. With that, I think that random Forest will do better because it generalizes the data (random).\n",
    "\n",
    " Makes a prediction on which model will perform better on the scaled data. \n",
    " The model that will preform better on the scaled data will bee the  Logistic regression because there is less noise variables as a result there could be a higher true and false positive rate.\n",
    "\n",
    "\n",
    " Makes a comparison between predicted behavior of the models on unscaled data and the actual results.\n",
    " indicate that training accuracy is higher than testing in both model and similar to my prediction it random forest can be a better model.\n",
    "\n",
    "\n",
    " Makes a comparison between predicted behavior of the models on scaled data and the actual results.\n",
    " the scaled data indicate that test accuracy is much higher than training in the linear regression this shows that radnom forest would be better model because the test score and training score are closer in number. I however assumed that linear model would be better. \n",
    " \n"
   ]
  },
  {
   "cell_type": "code",
   "execution_count": 29,
   "metadata": {},
   "outputs": [
    {
     "name": "stdout",
     "output_type": "stream",
     "text": [
      "Training Score: 0.8525451559934318\n",
      "Testing Score: 0.8463054187192118\n"
     ]
    },
    {
     "name": "stderr",
     "output_type": "stream",
     "text": [
      "/Users/melissa/opt/anaconda3/envs/PythonData/lib/python3.6/site-packages/sklearn/linear_model/_logistic.py:940: ConvergenceWarning: lbfgs failed to converge (status=1):\n",
      "STOP: TOTAL NO. of ITERATIONS REACHED LIMIT.\n",
      "\n",
      "Increase the number of iterations (max_iter) or scale the data as shown in:\n",
      "    https://scikit-learn.org/stable/modules/preprocessing.html\n",
      "Please also refer to the documentation for alternative solver options:\n",
      "    https://scikit-learn.org/stable/modules/linear_model.html#logistic-regression\n",
      "  \n"
     ]
    }
   ],
   "source": [
    "# Train the Logistic Regression model on the unscaled data and print the model score\n",
    "linear_df = LogisticRegression()\n",
    "linear_df.fit(x_train, y_train)\n",
    "\n",
    "training_score = linear_df.score(x_train, y_train)\n",
    "testing_score = linear_df.score(x_test, y_test)\n",
    "\n",
    "print(f\"Training Score: {training_score}\")\n",
    "print(f\"Testing Score: {testing_score}\")"
   ]
  },
  {
   "cell_type": "code",
   "execution_count": 31,
   "metadata": {},
   "outputs": [
    {
     "name": "stdout",
     "output_type": "stream",
     "text": [
      "Training Score: 0.8562671045429666\n",
      "Testing Score: 0.8492610837438423\n"
     ]
    }
   ],
   "source": [
    "# Train a Random Forest Classifier model and print the model score\n",
    "clf = RandomForestClassifier(max_depth=10, random_state=1, n_estimators=500).fit(x_train, y_train)\n",
    "print(f'Training Score: {clf.score(x_train, y_train)}')\n",
    "print(f'Testing Score: {clf.score(x_test, y_test)}')\n"
   ]
  },
  {
   "cell_type": "code",
   "execution_count": 33,
   "metadata": {},
   "outputs": [],
   "source": [
    "# Scale the data\n",
    "x_train, x_test, y_train, y_test = train_test_split(x, y, random_state=1)\n",
    "scaler = StandardScaler().fit(x_train)\n",
    "x_train_scaled = scaler.transform(x_train)\n",
    "x_test_scaled = scaler.transform(x_test)"
   ]
  },
  {
   "cell_type": "code",
   "execution_count": 34,
   "metadata": {},
   "outputs": [
    {
     "name": "stdout",
     "output_type": "stream",
     "text": [
      "Training Score: 0.9191023535851122\n",
      "Testing Score: 0.8394088669950739\n"
     ]
    },
    {
     "name": "stderr",
     "output_type": "stream",
     "text": [
      "/Users/melissa/opt/anaconda3/envs/PythonData/lib/python3.6/site-packages/sklearn/linear_model/_logistic.py:940: ConvergenceWarning: lbfgs failed to converge (status=1):\n",
      "STOP: TOTAL NO. of ITERATIONS REACHED LIMIT.\n",
      "\n",
      "Increase the number of iterations (max_iter) or scale the data as shown in:\n",
      "    https://scikit-learn.org/stable/modules/preprocessing.html\n",
      "Please also refer to the documentation for alternative solver options:\n",
      "    https://scikit-learn.org/stable/modules/linear_model.html#logistic-regression\n",
      "  \n"
     ]
    }
   ],
   "source": [
    "linear_df.fit(x_train_scaled, y_train)\n",
    "training_score = linear_df.score(x_train_scaled, y_train)\n",
    "testing_score = linear_df.score(x_test_scaled, y_test)\n",
    "\n",
    "print(f\"Training Score: {training_score}\")\n",
    "print(f\"Testing Score: {testing_score}\")"
   ]
  },
  {
   "cell_type": "code",
   "execution_count": 35,
   "metadata": {},
   "outputs": [
    {
     "name": "stdout",
     "output_type": "stream",
     "text": [
      "Training Score: 0.8562671045429666\n",
      "Testing Score: 0.8492610837438423\n"
     ]
    }
   ],
   "source": [
    "clf = RandomForestClassifier(max_depth=10, random_state=1, n_estimators=500).fit(x_train_scaled, y_train)\n",
    "print(f'Training Score: {clf.score(x_train_scaled, y_train)}')\n",
    "print(f'Testing Score: {clf.score(x_test_scaled, y_test)}')"
   ]
  }
 ],
 "metadata": {
  "kernelspec": {
   "display_name": "Python 3.6.10 64-bit ('PythonData': conda)",
   "name": "python3610jvsc74a57bd05e88ae0d8b4ee161d9389281caa7937fbc45e035e0c0b705f449214ecaa902c3"
  },
  "language_info": {
   "codemirror_mode": {
    "name": "ipython",
    "version": 3
   },
   "file_extension": ".py",
   "mimetype": "text/x-python",
   "name": "python",
   "nbconvert_exporter": "python",
   "pygments_lexer": "ipython3",
   "version": "3.6.10"
  },
  "metadata": {
   "interpreter": {
    "hash": "5e88ae0d8b4ee161d9389281caa7937fbc45e035e0c0b705f449214ecaa902c3"
   }
  }
 },
 "nbformat": 4,
 "nbformat_minor": 4
}