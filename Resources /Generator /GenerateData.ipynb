{
 "cells": [
  {
   "cell_type": "code",
   "execution_count": 1,
   "metadata": {},
   "outputs": [
    {
     "name": "stdout",
     "output_type": "stream",
     "text": [
      "--2021-10-04 22:07:50--  https://resources.lendingclub.com/LoanStats_2019Q1.csv.zip\n",
      "Resolving resources.lendingclub.com... 52.41.216.117, 52.11.25.247, 54.68.47.150\n",
      "Connecting to resources.lendingclub.com|52.41.216.117|:443... connected.\n",
      "HTTP request sent, awaiting response... 200 OK\n",
      "Length: unspecified [application/zip]\n",
      "Saving to: 'LoanStats_2019Q1.csv.zip.1'\n",
      "\n",
      "LoanStats_2019Q1.cs     [   <=>              ]  20.27M  3.26MB/s    in 6.3s    \n",
      "\n",
      "2021-10-04 22:07:57 (3.23 MB/s) - 'LoanStats_2019Q1.csv.zip.1' saved [21257309]\n",
      "\n",
      "--2021-10-04 22:07:57--  https://resources.lendingclub.com/LoanStats_2019Q2.csv.zip\n",
      "Resolving resources.lendingclub.com... 52.11.25.247, 54.68.47.150, 52.41.216.117\n",
      "Connecting to resources.lendingclub.com|52.11.25.247|:443... connected.\n",
      "HTTP request sent, awaiting response... 200 OK\n",
      "Length: unspecified [application/zip]\n",
      "Saving to: 'LoanStats_2019Q2.csv.zip.1'\n",
      "\n",
      "LoanStats_2019Q2.cs     [              <=>   ]  23.10M  5.95MB/s    in 3.9s    \n",
      "\n",
      "2021-10-04 22:08:01 (5.86 MB/s) - 'LoanStats_2019Q2.csv.zip.1' saved [24218121]\n",
      "\n",
      "--2021-10-04 22:08:01--  https://resources.lendingclub.com/LoanStats_2019Q3.csv.zip\n",
      "Resolving resources.lendingclub.com... 54.68.47.150, 52.41.216.117, 52.11.25.247\n",
      "Connecting to resources.lendingclub.com|54.68.47.150|:443... connected.\n",
      "HTTP request sent, awaiting response... 200 OK\n",
      "Length: unspecified [application/zip]\n",
      "Saving to: 'LoanStats_2019Q3.csv.zip.1'\n",
      "\n",
      "LoanStats_2019Q3.cs     [             <=>    ]  25.15M  6.00MB/s    in 4.3s    \n",
      "\n",
      "2021-10-04 22:08:06 (5.90 MB/s) - 'LoanStats_2019Q3.csv.zip.1' saved [26377187]\n",
      "\n",
      "--2021-10-04 22:08:06--  https://resources.lendingclub.com/LoanStats_2019Q4.csv.zip\n",
      "Resolving resources.lendingclub.com... 52.41.216.117, 52.11.25.247, 54.68.47.150\n",
      "Connecting to resources.lendingclub.com|52.41.216.117|:443... connected.\n",
      "HTTP request sent, awaiting response... 200 OK\n",
      "Length: unspecified [application/zip]\n",
      "Saving to: 'LoanStats_2019Q4.csv.zip.1'\n",
      "\n",
      "LoanStats_2019Q4.cs     [   <=>              ]  22.52M  3.24MB/s    in 7.0s    \n",
      "\n",
      "2021-10-04 22:08:13 (3.21 MB/s) - 'LoanStats_2019Q4.csv.zip.1' saved [23610701]\n",
      "\n",
      "--2021-10-04 22:08:13--  https://resources.lendingclub.com/LoanStats_2020Q1.csv.zip\n",
      "Resolving resources.lendingclub.com... 52.41.216.117, 52.11.25.247, 54.68.47.150\n",
      "Connecting to resources.lendingclub.com|52.41.216.117|:443... connected.\n",
      "HTTP request sent, awaiting response... 200 OK\n",
      "Length: unspecified [application/zip]\n",
      "Saving to: 'LoanStats_2020Q1.csv.zip.1'\n",
      "\n",
      "LoanStats_2020Q1.cs     [      <=>           ]  18.31M  3.25MB/s    in 5.7s    \n",
      "\n",
      "2021-10-04 22:08:19 (3.21 MB/s) - 'LoanStats_2020Q1.csv.zip.1' saved [19204779]\n",
      "\n"
     ]
    }
   ],
   "source": [
    "!wget https://resources.lendingclub.com/LoanStats_2019Q1.csv.zip\n",
    "!wget https://resources.lendingclub.com/LoanStats_2019Q2.csv.zip\n",
    "!wget https://resources.lendingclub.com/LoanStats_2019Q3.csv.zip\n",
    "!wget https://resources.lendingclub.com/LoanStats_2019Q4.csv.zip\n",
    "!wget https://resources.lendingclub.com/LoanStats_2020Q1.csv.zip"
   ]
  },
  {
   "cell_type": "code",
   "execution_count": 2,
   "metadata": {},
   "outputs": [],
   "source": [
    "import numpy as np\n",
    "import pandas as pd\n",
    "from pathlib import Path\n",
    "from collections import Counter\n",
    "from sklearn.model_selection import train_test_split"
   ]
  },
  {
   "cell_type": "code",
   "execution_count": 11,
   "metadata": {},
   "outputs": [],
   "source": [
    "columns = [\n",
    "    \"loan_amnt\", \"int_rate\", \"installment\", \"home_ownership\", \"annual_inc\", \n",
    "    \"verification_status\", \"pymnt_plan\", \"dti\", \"delinq_2yrs\", \n",
    "    \"inq_last_6mths\", \"open_acc\", \"pub_rec\", \"revol_bal\", \"total_acc\", \n",
    "    \"initial_list_status\", \"out_prncp\", \"out_prncp_inv\", \"total_pymnt\", \n",
    "    \"total_pymnt_inv\", \"total_rec_prncp\", \"total_rec_int\", \n",
    "    \"total_rec_late_fee\", \"recoveries\", \"collection_recovery_fee\", \n",
    "    \"last_pymnt_amnt\", \"collections_12_mths_ex_med\", \"policy_code\", \n",
    "    \"application_type\", \"acc_now_delinq\", \"tot_coll_amt\", \"tot_cur_bal\", \n",
    "    \"open_acc_6m\", \"open_act_il\", \"open_il_12m\", \"open_il_24m\", \n",
    "    \"mths_since_rcnt_il\", \"total_bal_il\", \"il_util\", \"open_rv_12m\", \n",
    "    \"open_rv_24m\", \"max_bal_bc\", \"all_util\", \"total_rev_hi_lim\", \"inq_fi\", \n",
    "    \"total_cu_tl\", \"inq_last_12m\", \"acc_open_past_24mths\", \"avg_cur_bal\", \n",
    "    \"bc_open_to_buy\", \"bc_util\", \"chargeoff_within_12_mths\", \"delinq_amnt\", \n",
    "    \"mo_sin_old_il_acct\", \"mo_sin_old_rev_tl_op\", \"mo_sin_rcnt_rev_tl_op\", \n",
    "    \"mo_sin_rcnt_tl\", \"mort_acc\", \"mths_since_recent_bc\", \n",
    "    \"mths_since_recent_inq\", \"num_accts_ever_120_pd\", \"num_actv_bc_tl\",\n",
    "    \"num_actv_rev_tl\", \"num_bc_sats\", \"num_bc_tl\", \"num_il_tl\", \n",
    "    \"num_op_rev_tl\", \"num_rev_accts\", \"num_rev_tl_bal_gt_0\", \"num_sats\", \n",
    "    \"num_tl_120dpd_2m\", \"num_tl_30dpd\", \"num_tl_90g_dpd_24m\", \n",
    "    \"num_tl_op_past_12m\", \"pct_tl_nvr_dlq\", \"percent_bc_gt_75\", \n",
    "    \"pub_rec_bankruptcies\", \"tax_liens\", \"tot_hi_cred_lim\", \n",
    "    \"total_bal_ex_mort\", \"total_bc_limit\", \"total_il_high_credit_limit\", \n",
    "    \"hardship_flag\", \"debt_settlement_flag\",\n",
    "    \"loan_status\"\n",
    "]\n",
    "\n",
    "target = \"loan_status\""
   ]
  },
  {
   "cell_type": "code",
   "execution_count": 15,
   "metadata": {},
   "outputs": [
    {
     "name": "stderr",
     "output_type": "stream",
     "text": [
      "/Users/melissa/opt/anaconda3/envs/PythonData/lib/python3.6/site-packages/IPython/core/interactiveshell.py:3072: DtypeWarning: Columns (0,138,139,140) have mixed types.Specify dtype option on import or set low_memory=False.\n",
      "  interactivity=interactivity, compiler=compiler, result=result)\n"
     ]
    },
    {
     "data": {
      "text/html": "<div>\n<style scoped>\n    .dataframe tbody tr th:only-of-type {\n        vertical-align: middle;\n    }\n\n    .dataframe tbody tr th {\n        vertical-align: top;\n    }\n\n    .dataframe thead th {\n        text-align: right;\n    }\n</style>\n<table border=\"1\" class=\"dataframe\">\n  <thead>\n    <tr style=\"text-align: right;\">\n      <th></th>\n      <th>loan_amnt</th>\n      <th>int_rate</th>\n      <th>installment</th>\n      <th>home_ownership</th>\n      <th>annual_inc</th>\n      <th>verification_status</th>\n      <th>pymnt_plan</th>\n      <th>dti</th>\n      <th>delinq_2yrs</th>\n      <th>inq_last_6mths</th>\n      <th>...</th>\n      <th>percent_bc_gt_75</th>\n      <th>pub_rec_bankruptcies</th>\n      <th>tax_liens</th>\n      <th>tot_hi_cred_lim</th>\n      <th>total_bal_ex_mort</th>\n      <th>total_bc_limit</th>\n      <th>total_il_high_credit_limit</th>\n      <th>hardship_flag</th>\n      <th>debt_settlement_flag</th>\n      <th>target</th>\n    </tr>\n  </thead>\n  <tbody>\n    <tr>\n      <th>0</th>\n      <td>7000.0</td>\n      <td>0.1894</td>\n      <td>256.38</td>\n      <td>MORTGAGE</td>\n      <td>75000.0</td>\n      <td>Not Verified</td>\n      <td>n</td>\n      <td>28.62</td>\n      <td>0.0</td>\n      <td>2.0</td>\n      <td>...</td>\n      <td>87.5</td>\n      <td>0.0</td>\n      <td>0.0</td>\n      <td>352260.0</td>\n      <td>62666.0</td>\n      <td>35000.0</td>\n      <td>10000.0</td>\n      <td>N</td>\n      <td>N</td>\n      <td>low_risk</td>\n    </tr>\n    <tr>\n      <th>1</th>\n      <td>40000.0</td>\n      <td>0.1614</td>\n      <td>975.71</td>\n      <td>MORTGAGE</td>\n      <td>102000.0</td>\n      <td>Source Verified</td>\n      <td>n</td>\n      <td>11.72</td>\n      <td>2.0</td>\n      <td>0.0</td>\n      <td>...</td>\n      <td>0.0</td>\n      <td>0.0</td>\n      <td>0.0</td>\n      <td>294664.0</td>\n      <td>109911.0</td>\n      <td>9000.0</td>\n      <td>71044.0</td>\n      <td>N</td>\n      <td>N</td>\n      <td>low_risk</td>\n    </tr>\n    <tr>\n      <th>2</th>\n      <td>11000.0</td>\n      <td>0.2055</td>\n      <td>294.81</td>\n      <td>RENT</td>\n      <td>45000.0</td>\n      <td>Verified</td>\n      <td>n</td>\n      <td>37.25</td>\n      <td>1.0</td>\n      <td>3.0</td>\n      <td>...</td>\n      <td>7.7</td>\n      <td>0.0</td>\n      <td>0.0</td>\n      <td>92228.0</td>\n      <td>36007.0</td>\n      <td>33000.0</td>\n      <td>46328.0</td>\n      <td>N</td>\n      <td>N</td>\n      <td>low_risk</td>\n    </tr>\n    <tr>\n      <th>3</th>\n      <td>4000.0</td>\n      <td>0.1612</td>\n      <td>140.87</td>\n      <td>MORTGAGE</td>\n      <td>38000.0</td>\n      <td>Not Verified</td>\n      <td>n</td>\n      <td>42.89</td>\n      <td>1.0</td>\n      <td>0.0</td>\n      <td>...</td>\n      <td>100.0</td>\n      <td>0.0</td>\n      <td>0.0</td>\n      <td>284273.0</td>\n      <td>52236.0</td>\n      <td>13500.0</td>\n      <td>52017.0</td>\n      <td>N</td>\n      <td>N</td>\n      <td>low_risk</td>\n    </tr>\n    <tr>\n      <th>4</th>\n      <td>14000.0</td>\n      <td>0.1797</td>\n      <td>505.93</td>\n      <td>MORTGAGE</td>\n      <td>43000.0</td>\n      <td>Source Verified</td>\n      <td>n</td>\n      <td>22.16</td>\n      <td>1.0</td>\n      <td>0.0</td>\n      <td>...</td>\n      <td>25.0</td>\n      <td>0.0</td>\n      <td>0.0</td>\n      <td>120280.0</td>\n      <td>88147.0</td>\n      <td>33300.0</td>\n      <td>78680.0</td>\n      <td>N</td>\n      <td>N</td>\n      <td>low_risk</td>\n    </tr>\n    <tr>\n      <th>...</th>\n      <td>...</td>\n      <td>...</td>\n      <td>...</td>\n      <td>...</td>\n      <td>...</td>\n      <td>...</td>\n      <td>...</td>\n      <td>...</td>\n      <td>...</td>\n      <td>...</td>\n      <td>...</td>\n      <td>...</td>\n      <td>...</td>\n      <td>...</td>\n      <td>...</td>\n      <td>...</td>\n      <td>...</td>\n      <td>...</td>\n      <td>...</td>\n      <td>...</td>\n      <td>...</td>\n    </tr>\n    <tr>\n      <th>12175</th>\n      <td>19975.0</td>\n      <td>0.2565</td>\n      <td>801.09</td>\n      <td>RENT</td>\n      <td>28000.0</td>\n      <td>Not Verified</td>\n      <td>n</td>\n      <td>28.42</td>\n      <td>0.0</td>\n      <td>0.0</td>\n      <td>...</td>\n      <td>16.7</td>\n      <td>0.0</td>\n      <td>0.0</td>\n      <td>50055.0</td>\n      <td>28192.0</td>\n      <td>18700.0</td>\n      <td>19055.0</td>\n      <td>N</td>\n      <td>N</td>\n      <td>high_risk</td>\n    </tr>\n    <tr>\n      <th>12176</th>\n      <td>15000.0</td>\n      <td>0.1774</td>\n      <td>540.34</td>\n      <td>RENT</td>\n      <td>50000.0</td>\n      <td>Verified</td>\n      <td>n</td>\n      <td>23.43</td>\n      <td>4.0</td>\n      <td>0.0</td>\n      <td>...</td>\n      <td>11.1</td>\n      <td>0.0</td>\n      <td>0.0</td>\n      <td>70324.0</td>\n      <td>57025.0</td>\n      <td>13300.0</td>\n      <td>54824.0</td>\n      <td>N</td>\n      <td>N</td>\n      <td>high_risk</td>\n    </tr>\n    <tr>\n      <th>12177</th>\n      <td>3600.0</td>\n      <td>0.1862</td>\n      <td>131.28</td>\n      <td>RENT</td>\n      <td>60000.0</td>\n      <td>Not Verified</td>\n      <td>n</td>\n      <td>28.80</td>\n      <td>0.0</td>\n      <td>1.0</td>\n      <td>...</td>\n      <td>0.0</td>\n      <td>0.0</td>\n      <td>0.0</td>\n      <td>83765.0</td>\n      <td>55156.0</td>\n      <td>14800.0</td>\n      <td>53065.0</td>\n      <td>N</td>\n      <td>N</td>\n      <td>high_risk</td>\n    </tr>\n    <tr>\n      <th>12178</th>\n      <td>15000.0</td>\n      <td>0.0881</td>\n      <td>475.68</td>\n      <td>MORTGAGE</td>\n      <td>62000.0</td>\n      <td>Source Verified</td>\n      <td>n</td>\n      <td>11.44</td>\n      <td>0.0</td>\n      <td>0.0</td>\n      <td>...</td>\n      <td>0.0</td>\n      <td>0.0</td>\n      <td>0.0</td>\n      <td>189930.0</td>\n      <td>23748.0</td>\n      <td>7000.0</td>\n      <td>32930.0</td>\n      <td>N</td>\n      <td>N</td>\n      <td>high_risk</td>\n    </tr>\n    <tr>\n      <th>12179</th>\n      <td>15000.0</td>\n      <td>0.1774</td>\n      <td>540.34</td>\n      <td>RENT</td>\n      <td>54080.0</td>\n      <td>Not Verified</td>\n      <td>n</td>\n      <td>21.66</td>\n      <td>1.0</td>\n      <td>1.0</td>\n      <td>...</td>\n      <td>100.0</td>\n      <td>0.0</td>\n      <td>0.0</td>\n      <td>48968.0</td>\n      <td>29786.0</td>\n      <td>2900.0</td>\n      <td>33968.0</td>\n      <td>N</td>\n      <td>N</td>\n      <td>high_risk</td>\n    </tr>\n  </tbody>\n</table>\n<p>12180 rows × 84 columns</p>\n</div>",
      "text/plain": "       loan_amnt  int_rate  installment home_ownership  annual_inc  \\\n0         7000.0    0.1894       256.38       MORTGAGE     75000.0   \n1        40000.0    0.1614       975.71       MORTGAGE    102000.0   \n2        11000.0    0.2055       294.81           RENT     45000.0   \n3         4000.0    0.1612       140.87       MORTGAGE     38000.0   \n4        14000.0    0.1797       505.93       MORTGAGE     43000.0   \n...          ...       ...          ...            ...         ...   \n12175    19975.0    0.2565       801.09           RENT     28000.0   \n12176    15000.0    0.1774       540.34           RENT     50000.0   \n12177     3600.0    0.1862       131.28           RENT     60000.0   \n12178    15000.0    0.0881       475.68       MORTGAGE     62000.0   \n12179    15000.0    0.1774       540.34           RENT     54080.0   \n\n      verification_status pymnt_plan    dti  delinq_2yrs  inq_last_6mths  ...  \\\n0            Not Verified          n  28.62          0.0             2.0  ...   \n1         Source Verified          n  11.72          2.0             0.0  ...   \n2                Verified          n  37.25          1.0             3.0  ...   \n3            Not Verified          n  42.89          1.0             0.0  ...   \n4         Source Verified          n  22.16          1.0             0.0  ...   \n...                   ...        ...    ...          ...             ...  ...   \n12175        Not Verified          n  28.42          0.0             0.0  ...   \n12176            Verified          n  23.43          4.0             0.0  ...   \n12177        Not Verified          n  28.80          0.0             1.0  ...   \n12178     Source Verified          n  11.44          0.0             0.0  ...   \n12179        Not Verified          n  21.66          1.0             1.0  ...   \n\n       percent_bc_gt_75  pub_rec_bankruptcies  tax_liens  tot_hi_cred_lim  \\\n0                  87.5                   0.0        0.0         352260.0   \n1                   0.0                   0.0        0.0         294664.0   \n2                   7.7                   0.0        0.0          92228.0   \n3                 100.0                   0.0        0.0         284273.0   \n4                  25.0                   0.0        0.0         120280.0   \n...                 ...                   ...        ...              ...   \n12175              16.7                   0.0        0.0          50055.0   \n12176              11.1                   0.0        0.0          70324.0   \n12177               0.0                   0.0        0.0          83765.0   \n12178               0.0                   0.0        0.0         189930.0   \n12179             100.0                   0.0        0.0          48968.0   \n\n      total_bal_ex_mort  total_bc_limit  total_il_high_credit_limit  \\\n0               62666.0         35000.0                     10000.0   \n1              109911.0          9000.0                     71044.0   \n2               36007.0         33000.0                     46328.0   \n3               52236.0         13500.0                     52017.0   \n4               88147.0         33300.0                     78680.0   \n...                 ...             ...                         ...   \n12175           28192.0         18700.0                     19055.0   \n12176           57025.0         13300.0                     54824.0   \n12177           55156.0         14800.0                     53065.0   \n12178           23748.0          7000.0                     32930.0   \n12179           29786.0          2900.0                     33968.0   \n\n       hardship_flag  debt_settlement_flag     target  \n0                  N                     N   low_risk  \n1                  N                     N   low_risk  \n2                  N                     N   low_risk  \n3                  N                     N   low_risk  \n4                  N                     N   low_risk  \n...              ...                   ...        ...  \n12175              N                     N  high_risk  \n12176              N                     N  high_risk  \n12177              N                     N  high_risk  \n12178              N                     N  high_risk  \n12179              N                     N  high_risk  \n\n[12180 rows x 84 columns]"
     },
     "execution_count": 15,
     "metadata": {},
     "output_type": "execute_result"
    }
   ],
   "source": [
    "# Load the data\n",
    "df1 = pd.read_csv(Path('/Users/melissa/Downloads/Supervised_Machine_Learning/Resources /Generator /LoanStats_2019Q1.csv.zip'), skiprows=1)[:-2]\n",
    "df2 = pd.read_csv(Path('/Users/melissa/Downloads/Supervised_Machine_Learning/Resources /Generator /LoanStats_2019Q2.csv.zip'), skiprows=1)[:-2]\n",
    "df3 = pd.read_csv(Path('/Users/melissa/Downloads/Supervised_Machine_Learning/Resources /Generator /LoanStats_2019Q3.csv.zip'), skiprows=1)[:-2]\n",
    "df4 = pd.read_csv(Path('/Users/melissa/Downloads/Supervised_Machine_Learning/Resources /Generator /LoanStats_2019Q4.csv.zip'), skiprows=1)[:-2]\n",
    "\n",
    "df = pd.concat([df1, df2, df3, df4]).loc[:, columns].copy()\n",
    "\n",
    "# Drop the null columns where all values are null\n",
    "df = df.dropna(axis='columns', how='all')\n",
    "\n",
    "# Drop the null rows\n",
    "df = df.dropna()\n",
    "\n",
    "# Remove the `Issued` loan status\n",
    "issued_mask = df['loan_status'] != 'Issued'\n",
    "df = df.loc[issued_mask]\n",
    "\n",
    "# convert interest rate to numerical\n",
    "df['int_rate'] = df['int_rate'].str.replace('%', '')\n",
    "df['int_rate'] = df['int_rate'].astype('float') / 100\n",
    "\n",
    "\n",
    "# Convert the target column values to low_risk and high_risk based on their values\n",
    "x = {'Current': 'low_risk'}   \n",
    "df = df.replace(x)\n",
    "\n",
    "x = dict.fromkeys(['Late (31-120 days)', 'Late (16-30 days)', 'Default', 'In Grace Period'], 'high_risk')    \n",
    "df = df.replace(x)\n",
    "\n",
    "\n",
    "low_risk_rows = df[df[target] == 'low_risk']\n",
    "high_risk_rows = df[df[target] == 'high_risk']\n",
    "\n",
    "#df = pd.concat([low_risk_rows, high_risk_rows.sample(n=len(low_risk_rows), replace=True)])\n",
    "df = pd.concat([low_risk_rows.sample(n=len(high_risk_rows), random_state=42), high_risk_rows])\n",
    "df = df.reset_index(drop=True)\n",
    "df = df.rename({target:'target'}, axis=\"columns\")\n",
    "df"
   ]
  },
  {
   "cell_type": "code",
   "execution_count": 16,
   "metadata": {},
   "outputs": [],
   "source": [
    "df.to_csv('2019loans.csv', index=False)"
   ]
  },
  {
   "cell_type": "code",
   "execution_count": 17,
   "metadata": {},
   "outputs": [
    {
     "ename": "FileNotFoundError",
     "evalue": "[Errno 2] No such file or directory: '../Resources/LoanStats_2020Q1.csv.zip'",
     "output_type": "error",
     "traceback": [
      "\u001b[0;31m---------------------------------------------------------------------------\u001b[0m",
      "\u001b[0;31mFileNotFoundError\u001b[0m                         Traceback (most recent call last)",
      "\u001b[0;32m<ipython-input-17-8f849f445096>\u001b[0m in \u001b[0;36m<module>\u001b[0;34m\u001b[0m\n\u001b[1;32m      1\u001b[0m \u001b[0;31m# Load the data\u001b[0m\u001b[0;34m\u001b[0m\u001b[0;34m\u001b[0m\u001b[0;34m\u001b[0m\u001b[0m\n\u001b[0;32m----> 2\u001b[0;31m \u001b[0mvalidate_df\u001b[0m \u001b[0;34m=\u001b[0m \u001b[0mpd\u001b[0m\u001b[0;34m.\u001b[0m\u001b[0mread_csv\u001b[0m\u001b[0;34m(\u001b[0m\u001b[0mPath\u001b[0m\u001b[0;34m(\u001b[0m\u001b[0;34m'../Resources/LoanStats_2020Q1.csv.zip'\u001b[0m\u001b[0;34m)\u001b[0m\u001b[0;34m,\u001b[0m \u001b[0mskiprows\u001b[0m\u001b[0;34m=\u001b[0m\u001b[0;36m1\u001b[0m\u001b[0;34m)\u001b[0m\u001b[0;34m[\u001b[0m\u001b[0;34m:\u001b[0m\u001b[0;34m-\u001b[0m\u001b[0;36m2\u001b[0m\u001b[0;34m]\u001b[0m\u001b[0;34m\u001b[0m\u001b[0;34m\u001b[0m\u001b[0m\n\u001b[0m\u001b[1;32m      3\u001b[0m \u001b[0mvalidate_df\u001b[0m \u001b[0;34m=\u001b[0m \u001b[0mvalidate_df\u001b[0m\u001b[0;34m.\u001b[0m\u001b[0mloc\u001b[0m\u001b[0;34m[\u001b[0m\u001b[0;34m:\u001b[0m\u001b[0;34m,\u001b[0m \u001b[0mcolumns\u001b[0m\u001b[0;34m]\u001b[0m\u001b[0;34m.\u001b[0m\u001b[0mcopy\u001b[0m\u001b[0;34m(\u001b[0m\u001b[0;34m)\u001b[0m\u001b[0;34m\u001b[0m\u001b[0;34m\u001b[0m\u001b[0m\n\u001b[1;32m      4\u001b[0m \u001b[0;34m\u001b[0m\u001b[0m\n\u001b[1;32m      5\u001b[0m \u001b[0;31m# Drop the null columns where all values are null\u001b[0m\u001b[0;34m\u001b[0m\u001b[0;34m\u001b[0m\u001b[0;34m\u001b[0m\u001b[0m\n",
      "\u001b[0;32m~/opt/anaconda3/envs/PythonData/lib/python3.6/site-packages/pandas/io/parsers.py\u001b[0m in \u001b[0;36mparser_f\u001b[0;34m(filepath_or_buffer, sep, delimiter, header, names, index_col, usecols, squeeze, prefix, mangle_dupe_cols, dtype, engine, converters, true_values, false_values, skipinitialspace, skiprows, skipfooter, nrows, na_values, keep_default_na, na_filter, verbose, skip_blank_lines, parse_dates, infer_datetime_format, keep_date_col, date_parser, dayfirst, cache_dates, iterator, chunksize, compression, thousands, decimal, lineterminator, quotechar, quoting, doublequote, escapechar, comment, encoding, dialect, error_bad_lines, warn_bad_lines, delim_whitespace, low_memory, memory_map, float_precision)\u001b[0m\n\u001b[1;32m    674\u001b[0m         )\n\u001b[1;32m    675\u001b[0m \u001b[0;34m\u001b[0m\u001b[0m\n\u001b[0;32m--> 676\u001b[0;31m         \u001b[0;32mreturn\u001b[0m \u001b[0m_read\u001b[0m\u001b[0;34m(\u001b[0m\u001b[0mfilepath_or_buffer\u001b[0m\u001b[0;34m,\u001b[0m \u001b[0mkwds\u001b[0m\u001b[0;34m)\u001b[0m\u001b[0;34m\u001b[0m\u001b[0;34m\u001b[0m\u001b[0m\n\u001b[0m\u001b[1;32m    677\u001b[0m \u001b[0;34m\u001b[0m\u001b[0m\n\u001b[1;32m    678\u001b[0m     \u001b[0mparser_f\u001b[0m\u001b[0;34m.\u001b[0m\u001b[0m__name__\u001b[0m \u001b[0;34m=\u001b[0m \u001b[0mname\u001b[0m\u001b[0;34m\u001b[0m\u001b[0;34m\u001b[0m\u001b[0m\n",
      "\u001b[0;32m~/opt/anaconda3/envs/PythonData/lib/python3.6/site-packages/pandas/io/parsers.py\u001b[0m in \u001b[0;36m_read\u001b[0;34m(filepath_or_buffer, kwds)\u001b[0m\n\u001b[1;32m    446\u001b[0m \u001b[0;34m\u001b[0m\u001b[0m\n\u001b[1;32m    447\u001b[0m     \u001b[0;31m# Create the parser.\u001b[0m\u001b[0;34m\u001b[0m\u001b[0;34m\u001b[0m\u001b[0;34m\u001b[0m\u001b[0m\n\u001b[0;32m--> 448\u001b[0;31m     \u001b[0mparser\u001b[0m \u001b[0;34m=\u001b[0m \u001b[0mTextFileReader\u001b[0m\u001b[0;34m(\u001b[0m\u001b[0mfp_or_buf\u001b[0m\u001b[0;34m,\u001b[0m \u001b[0;34m**\u001b[0m\u001b[0mkwds\u001b[0m\u001b[0;34m)\u001b[0m\u001b[0;34m\u001b[0m\u001b[0;34m\u001b[0m\u001b[0m\n\u001b[0m\u001b[1;32m    449\u001b[0m \u001b[0;34m\u001b[0m\u001b[0m\n\u001b[1;32m    450\u001b[0m     \u001b[0;32mif\u001b[0m \u001b[0mchunksize\u001b[0m \u001b[0;32mor\u001b[0m \u001b[0miterator\u001b[0m\u001b[0;34m:\u001b[0m\u001b[0;34m\u001b[0m\u001b[0;34m\u001b[0m\u001b[0m\n",
      "\u001b[0;32m~/opt/anaconda3/envs/PythonData/lib/python3.6/site-packages/pandas/io/parsers.py\u001b[0m in \u001b[0;36m__init__\u001b[0;34m(self, f, engine, **kwds)\u001b[0m\n\u001b[1;32m    878\u001b[0m             \u001b[0mself\u001b[0m\u001b[0;34m.\u001b[0m\u001b[0moptions\u001b[0m\u001b[0;34m[\u001b[0m\u001b[0;34m\"has_index_names\"\u001b[0m\u001b[0;34m]\u001b[0m \u001b[0;34m=\u001b[0m \u001b[0mkwds\u001b[0m\u001b[0;34m[\u001b[0m\u001b[0;34m\"has_index_names\"\u001b[0m\u001b[0;34m]\u001b[0m\u001b[0;34m\u001b[0m\u001b[0;34m\u001b[0m\u001b[0m\n\u001b[1;32m    879\u001b[0m \u001b[0;34m\u001b[0m\u001b[0m\n\u001b[0;32m--> 880\u001b[0;31m         \u001b[0mself\u001b[0m\u001b[0;34m.\u001b[0m\u001b[0m_make_engine\u001b[0m\u001b[0;34m(\u001b[0m\u001b[0mself\u001b[0m\u001b[0;34m.\u001b[0m\u001b[0mengine\u001b[0m\u001b[0;34m)\u001b[0m\u001b[0;34m\u001b[0m\u001b[0;34m\u001b[0m\u001b[0m\n\u001b[0m\u001b[1;32m    881\u001b[0m \u001b[0;34m\u001b[0m\u001b[0m\n\u001b[1;32m    882\u001b[0m     \u001b[0;32mdef\u001b[0m \u001b[0mclose\u001b[0m\u001b[0;34m(\u001b[0m\u001b[0mself\u001b[0m\u001b[0;34m)\u001b[0m\u001b[0;34m:\u001b[0m\u001b[0;34m\u001b[0m\u001b[0;34m\u001b[0m\u001b[0m\n",
      "\u001b[0;32m~/opt/anaconda3/envs/PythonData/lib/python3.6/site-packages/pandas/io/parsers.py\u001b[0m in \u001b[0;36m_make_engine\u001b[0;34m(self, engine)\u001b[0m\n\u001b[1;32m   1112\u001b[0m     \u001b[0;32mdef\u001b[0m \u001b[0m_make_engine\u001b[0m\u001b[0;34m(\u001b[0m\u001b[0mself\u001b[0m\u001b[0;34m,\u001b[0m \u001b[0mengine\u001b[0m\u001b[0;34m=\u001b[0m\u001b[0;34m\"c\"\u001b[0m\u001b[0;34m)\u001b[0m\u001b[0;34m:\u001b[0m\u001b[0;34m\u001b[0m\u001b[0;34m\u001b[0m\u001b[0m\n\u001b[1;32m   1113\u001b[0m         \u001b[0;32mif\u001b[0m \u001b[0mengine\u001b[0m \u001b[0;34m==\u001b[0m \u001b[0;34m\"c\"\u001b[0m\u001b[0;34m:\u001b[0m\u001b[0;34m\u001b[0m\u001b[0;34m\u001b[0m\u001b[0m\n\u001b[0;32m-> 1114\u001b[0;31m             \u001b[0mself\u001b[0m\u001b[0;34m.\u001b[0m\u001b[0m_engine\u001b[0m \u001b[0;34m=\u001b[0m \u001b[0mCParserWrapper\u001b[0m\u001b[0;34m(\u001b[0m\u001b[0mself\u001b[0m\u001b[0;34m.\u001b[0m\u001b[0mf\u001b[0m\u001b[0;34m,\u001b[0m \u001b[0;34m**\u001b[0m\u001b[0mself\u001b[0m\u001b[0;34m.\u001b[0m\u001b[0moptions\u001b[0m\u001b[0;34m)\u001b[0m\u001b[0;34m\u001b[0m\u001b[0;34m\u001b[0m\u001b[0m\n\u001b[0m\u001b[1;32m   1115\u001b[0m         \u001b[0;32melse\u001b[0m\u001b[0;34m:\u001b[0m\u001b[0;34m\u001b[0m\u001b[0;34m\u001b[0m\u001b[0m\n\u001b[1;32m   1116\u001b[0m             \u001b[0;32mif\u001b[0m \u001b[0mengine\u001b[0m \u001b[0;34m==\u001b[0m \u001b[0;34m\"python\"\u001b[0m\u001b[0;34m:\u001b[0m\u001b[0;34m\u001b[0m\u001b[0;34m\u001b[0m\u001b[0m\n",
      "\u001b[0;32m~/opt/anaconda3/envs/PythonData/lib/python3.6/site-packages/pandas/io/parsers.py\u001b[0m in \u001b[0;36m__init__\u001b[0;34m(self, src, **kwds)\u001b[0m\n\u001b[1;32m   1889\u001b[0m         \u001b[0mkwds\u001b[0m\u001b[0;34m[\u001b[0m\u001b[0;34m\"usecols\"\u001b[0m\u001b[0;34m]\u001b[0m \u001b[0;34m=\u001b[0m \u001b[0mself\u001b[0m\u001b[0;34m.\u001b[0m\u001b[0musecols\u001b[0m\u001b[0;34m\u001b[0m\u001b[0;34m\u001b[0m\u001b[0m\n\u001b[1;32m   1890\u001b[0m \u001b[0;34m\u001b[0m\u001b[0m\n\u001b[0;32m-> 1891\u001b[0;31m         \u001b[0mself\u001b[0m\u001b[0;34m.\u001b[0m\u001b[0m_reader\u001b[0m \u001b[0;34m=\u001b[0m \u001b[0mparsers\u001b[0m\u001b[0;34m.\u001b[0m\u001b[0mTextReader\u001b[0m\u001b[0;34m(\u001b[0m\u001b[0msrc\u001b[0m\u001b[0;34m,\u001b[0m \u001b[0;34m**\u001b[0m\u001b[0mkwds\u001b[0m\u001b[0;34m)\u001b[0m\u001b[0;34m\u001b[0m\u001b[0;34m\u001b[0m\u001b[0m\n\u001b[0m\u001b[1;32m   1892\u001b[0m         \u001b[0mself\u001b[0m\u001b[0;34m.\u001b[0m\u001b[0munnamed_cols\u001b[0m \u001b[0;34m=\u001b[0m \u001b[0mself\u001b[0m\u001b[0;34m.\u001b[0m\u001b[0m_reader\u001b[0m\u001b[0;34m.\u001b[0m\u001b[0munnamed_cols\u001b[0m\u001b[0;34m\u001b[0m\u001b[0;34m\u001b[0m\u001b[0m\n\u001b[1;32m   1893\u001b[0m \u001b[0;34m\u001b[0m\u001b[0m\n",
      "\u001b[0;32mpandas/_libs/parsers.pyx\u001b[0m in \u001b[0;36mpandas._libs.parsers.TextReader.__cinit__\u001b[0;34m()\u001b[0m\n",
      "\u001b[0;32mpandas/_libs/parsers.pyx\u001b[0m in \u001b[0;36mpandas._libs.parsers.TextReader._setup_parser_source\u001b[0;34m()\u001b[0m\n",
      "\u001b[0;32m~/opt/anaconda3/envs/PythonData/lib/python3.6/zipfile.py\u001b[0m in \u001b[0;36m__init__\u001b[0;34m(self, file, mode, compression, allowZip64)\u001b[0m\n\u001b[1;32m   1111\u001b[0m             \u001b[0;32mwhile\u001b[0m \u001b[0;32mTrue\u001b[0m\u001b[0;34m:\u001b[0m\u001b[0;34m\u001b[0m\u001b[0;34m\u001b[0m\u001b[0m\n\u001b[1;32m   1112\u001b[0m                 \u001b[0;32mtry\u001b[0m\u001b[0;34m:\u001b[0m\u001b[0;34m\u001b[0m\u001b[0;34m\u001b[0m\u001b[0m\n\u001b[0;32m-> 1113\u001b[0;31m                     \u001b[0mself\u001b[0m\u001b[0;34m.\u001b[0m\u001b[0mfp\u001b[0m \u001b[0;34m=\u001b[0m \u001b[0mio\u001b[0m\u001b[0;34m.\u001b[0m\u001b[0mopen\u001b[0m\u001b[0;34m(\u001b[0m\u001b[0mfile\u001b[0m\u001b[0;34m,\u001b[0m \u001b[0mfilemode\u001b[0m\u001b[0;34m)\u001b[0m\u001b[0;34m\u001b[0m\u001b[0;34m\u001b[0m\u001b[0m\n\u001b[0m\u001b[1;32m   1114\u001b[0m                 \u001b[0;32mexcept\u001b[0m \u001b[0mOSError\u001b[0m\u001b[0;34m:\u001b[0m\u001b[0;34m\u001b[0m\u001b[0;34m\u001b[0m\u001b[0m\n\u001b[1;32m   1115\u001b[0m                     \u001b[0;32mif\u001b[0m \u001b[0mfilemode\u001b[0m \u001b[0;32min\u001b[0m \u001b[0mmodeDict\u001b[0m\u001b[0;34m:\u001b[0m\u001b[0;34m\u001b[0m\u001b[0;34m\u001b[0m\u001b[0m\n",
      "\u001b[0;31mFileNotFoundError\u001b[0m: [Errno 2] No such file or directory: '../Resources/LoanStats_2020Q1.csv.zip'"
     ]
    }
   ],
   "source": [
    "# Load the data\n",
    "validate_df = pd.read_csv(Path('/Users/melissa/Downloads/Supervised_Machine_Learning/Resources /Generator /LoanStats_2019Q1.csv.zip'), skiprows=1)[:-2]\n",
    "validate_df = validate_df.loc[:, columns].copy()\n",
    "\n",
    "# Drop the null columns where all values are null\n",
    "validate_df = validate_df.dropna(axis='columns', how='all')\n",
    "\n",
    "# Drop the null rows\n",
    "validate_df = validate_df.dropna()\n",
    "\n",
    "# Remove the `Issued` loan status\n",
    "issued_mask = validate_df[target] != 'Issued'\n",
    "validate_df = validate_df.loc[issued_mask]\n",
    "\n",
    "# convert interest rate to numerical\n",
    "validate_df['int_rate'] = validate_df['int_rate'].str.replace('%', '')\n",
    "validate_df['int_rate'] = validate_df['int_rate'].astype('float') / 100\n",
    "\n",
    "\n",
    "# Convert the target column values to low_risk and high_risk based on their values\n",
    "x = dict.fromkeys(['Current', 'Fully Paid'], 'low_risk') \n",
    "validate_df = validate_df.replace(x)\n",
    "\n",
    "x = dict.fromkeys(['Late (31-120 days)', 'Late (16-30 days)', 'Default', 'In Grace Period', 'Charged Off'], 'high_risk')    \n",
    "validate_df = validate_df.replace(x)\n",
    "\n",
    "low_risk_rows = validate_df[validate_df[target] == 'low_risk']\n",
    "high_risk_rows = validate_df[validate_df[target] == 'high_risk']\n",
    "\n",
    "validate_df = pd.concat([low_risk_rows.sample(n=len(high_risk_rows), random_state=37), high_risk_rows])\n",
    "validate_df = validate_df.reset_index(drop=True)\n",
    "validate_df = validate_df.rename({target:'target'}, axis=\"columns\")\n",
    "validate_df"
   ]
  },
  {
   "cell_type": "code",
   "execution_count": 8,
   "metadata": {},
   "outputs": [],
   "source": [
    "validate_df.to_csv('2020Q1loans.csv', index=False)"
   ]
  },
  {
   "cell_type": "code",
   "execution_count": null,
   "metadata": {},
   "outputs": [],
   "source": []
  }
 ],
 "metadata": {
  "kernelspec": {
   "display_name": "Python 3.6.10 64-bit ('PythonData': conda)",
   "name": "python3610jvsc74a57bd05e88ae0d8b4ee161d9389281caa7937fbc45e035e0c0b705f449214ecaa902c3"
  },
  "language_info": {
   "codemirror_mode": {
    "name": "ipython",
    "version": 3
   },
   "file_extension": ".py",
   "mimetype": "text/x-python",
   "name": "python",
   "nbconvert_exporter": "python",
   "pygments_lexer": "ipython3",
   "version": "3.6.10"
  },
  "metadata": {
   "interpreter": {
    "hash": "5e88ae0d8b4ee161d9389281caa7937fbc45e035e0c0b705f449214ecaa902c3"
   }
  }
 },
 "nbformat": 4,
 "nbformat_minor": 4
}